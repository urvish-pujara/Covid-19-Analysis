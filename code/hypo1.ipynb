{
 "cells": [
  {
   "cell_type": "code",
   "execution_count": 13,
   "metadata": {},
   "outputs": [],
   "source": [
    "import numpy as np \n",
    "import pandas as pd\n",
    "import matplotlib.pyplot as plt\n",
    "from scipy.stats import chi2_contingency"
   ]
  },
  {
   "attachments": {},
   "cell_type": "markdown",
   "metadata": {},
   "source": [
    "### Hypothesis 1 \n",
    "\n",
    "#### H(0) : there is no significant relationship between the individuals or household members being diagnosed with COVID-19 and the changes in personal cleanning behavior, online spending habits or stockpiling behavior.\n",
    "\n",
    "#### H(1) : there is a significant relationship between the individuals or household members being diagnosed with COVID-19 and the changes in personal cleanning behavior, online spending habits or stockpiling behavior."
   ]
  },
  {
   "attachments": {},
   "cell_type": "markdown",
   "metadata": {},
   "source": [
    "#### For this hypothesis , we will use the chi-square test to determine if there is a significant relationship between the individuals or household members being diagnosed with COVID-19 and the changes in personal cleanning behavior, online spending habits or stockpiling behavior.\n",
    "\n",
    "#### The Chi-square test of independence checks whether two variables are likely to be related or not. We have counts for two categorical or nominal variables. We also have an idea that the two variables are not related. The test gives us a way to decide if our idea is plausible or not."
   ]
  },
  {
   "cell_type": "code",
   "execution_count": 14,
   "metadata": {},
   "outputs": [],
   "source": [
    "data = pd.read_csv(\"../Dataset/Data_COVID19_Engl_sh_processed.csv\")\n"
   ]
  },
  {
   "cell_type": "code",
   "execution_count": 15,
   "metadata": {},
   "outputs": [],
   "source": [
    "\n",
    "def chi_square_test_of_independence(data, column1, column2):\n",
    "    # Create a contingency table\n",
    "    contingency_table = pd.crosstab(data[column1], data[column2])\n",
    "    # Perform the chi-square test\n",
    "    chi2, p, dof, expected = chi2_contingency(contingency_table)\n",
    "    p_result = \"\"\n",
    "    if p < 0.05:\n",
    "        p_result = \"significant, reject the null hypothesis\"\n",
    "    else:\n",
    "        p_result = \"not significant, fail to reject the null hypothesis\"\n",
    "    return chi2, p, dof, expected, p_result"
   ]
  },
  {
   "cell_type": "code",
   "execution_count": 17,
   "metadata": {},
   "outputs": [
    {
     "data": {
      "text/html": [
       "<div>\n",
       "<style scoped>\n",
       "    .dataframe tbody tr th:only-of-type {\n",
       "        vertical-align: middle;\n",
       "    }\n",
       "\n",
       "    .dataframe tbody tr th {\n",
       "        vertical-align: top;\n",
       "    }\n",
       "\n",
       "    .dataframe thead th {\n",
       "        text-align: right;\n",
       "    }\n",
       "</style>\n",
       "<table border=\"1\" class=\"dataframe\">\n",
       "  <thead>\n",
       "    <tr style=\"text-align: right;\">\n",
       "      <th></th>\n",
       "      <th>Variable</th>\n",
       "      <th>Chi2</th>\n",
       "      <th>p-value</th>\n",
       "      <th>Dof</th>\n",
       "      <th>Result</th>\n",
       "    </tr>\n",
       "  </thead>\n",
       "  <tbody>\n",
       "    <tr>\n",
       "      <th>0</th>\n",
       "      <td>sto_n</td>\n",
       "      <td>6.088586</td>\n",
       "      <td>0.013606</td>\n",
       "      <td>1</td>\n",
       "      <td>significant, reject the null hypothesis</td>\n",
       "    </tr>\n",
       "    <tr>\n",
       "      <th>1</th>\n",
       "      <td>hyg_n</td>\n",
       "      <td>18.903093</td>\n",
       "      <td>0.000821</td>\n",
       "      <td>4</td>\n",
       "      <td>significant, reject the null hypothesis</td>\n",
       "    </tr>\n",
       "    <tr>\n",
       "      <th>2</th>\n",
       "      <td>int_n</td>\n",
       "      <td>6.707053</td>\n",
       "      <td>0.152203</td>\n",
       "      <td>4</td>\n",
       "      <td>not significant, fail to reject the null hypot...</td>\n",
       "    </tr>\n",
       "  </tbody>\n",
       "</table>\n",
       "</div>"
      ],
      "text/plain": [
       "  Variable       Chi2   p-value  Dof  \\\n",
       "0    sto_n   6.088586  0.013606    1   \n",
       "1    hyg_n  18.903093  0.000821    4   \n",
       "2    int_n   6.707053  0.152203    4   \n",
       "\n",
       "                                              Result  \n",
       "0            significant, reject the null hypothesis  \n",
       "1            significant, reject the null hypothesis  \n",
       "2  not significant, fail to reject the null hypot...  "
      ]
     },
     "execution_count": 17,
     "metadata": {},
     "output_type": "execute_result"
    }
   ],
   "source": [
    "chi_square_columns = ['sto_n', 'hyg_n', 'int_n']\n",
    "# Initialize an empty list to store results\n",
    "hypo1_table_data = []\n",
    "for column in chi_square_columns:\n",
    "    chi2, p, dof, expected, p_result = chi_square_test_of_independence(data, column, 'cov_n')\n",
    "    hypo1_table_data.append({'Variable': column, 'Chi2': chi2, 'p-value': p, 'Dof': dof, 'Result': p_result})\n",
    "\n",
    "\n",
    "hypo1_table = pd.DataFrame(hypo1_table_data)\n",
    "# print in the table format in csv\n",
    "hypo1_table.to_csv('../Results/hypo1_table.csv', index=False)\n",
    "hypo1_df = pd.read_csv('../Results/hypo1_table.csv')\n",
    "hypo1_df.head(5)\n"
   ]
  },
  {
   "cell_type": "code",
   "execution_count": 19,
   "metadata": {},
   "outputs": [
    {
     "data": {
      "text/html": [
       "<div>\n",
       "<style scoped>\n",
       "    .dataframe tbody tr th:only-of-type {\n",
       "        vertical-align: middle;\n",
       "    }\n",
       "\n",
       "    .dataframe tbody tr th {\n",
       "        vertical-align: top;\n",
       "    }\n",
       "\n",
       "    .dataframe thead th {\n",
       "        text-align: right;\n",
       "    }\n",
       "</style>\n",
       "<table border=\"1\" class=\"dataframe\">\n",
       "  <thead>\n",
       "    <tr style=\"text-align: right;\">\n",
       "      <th></th>\n",
       "      <th>Variable</th>\n",
       "      <th>Stats</th>\n",
       "      <th>p-value</th>\n",
       "      <th>Result</th>\n",
       "    </tr>\n",
       "  </thead>\n",
       "  <tbody>\n",
       "    <tr>\n",
       "      <th>0</th>\n",
       "      <td>sto_n</td>\n",
       "      <td>171535.5</td>\n",
       "      <td>0.010212</td>\n",
       "      <td>significant, reject the null hypothesis</td>\n",
       "    </tr>\n",
       "    <tr>\n",
       "      <th>1</th>\n",
       "      <td>hyg_n</td>\n",
       "      <td>149924.5</td>\n",
       "      <td>0.645847</td>\n",
       "      <td>not significant, fail to reject the null hypot...</td>\n",
       "    </tr>\n",
       "    <tr>\n",
       "      <th>2</th>\n",
       "      <td>int_n</td>\n",
       "      <td>141846.0</td>\n",
       "      <td>0.154336</td>\n",
       "      <td>not significant, fail to reject the null hypot...</td>\n",
       "    </tr>\n",
       "  </tbody>\n",
       "</table>\n",
       "</div>"
      ],
      "text/plain": [
       "  Variable     Stats   p-value  \\\n",
       "0    sto_n  171535.5  0.010212   \n",
       "1    hyg_n  149924.5  0.645847   \n",
       "2    int_n  141846.0  0.154336   \n",
       "\n",
       "                                              Result  \n",
       "0            significant, reject the null hypothesis  \n",
       "1  not significant, fail to reject the null hypot...  \n",
       "2  not significant, fail to reject the null hypot...  "
      ]
     },
     "execution_count": 19,
     "metadata": {},
     "output_type": "execute_result"
    }
   ],
   "source": [
    "from scipy.stats import mannwhitneyu\n",
    "\n",
    "def man_whitney_test(data, column):\n",
    "    covid_diagnosis = data[data['cov_n'] == 1]\n",
    "    non_covid_diagnosis = data[data['cov_n'] == 0]\n",
    "    stats, p = mannwhitneyu(covid_diagnosis[column], non_covid_diagnosis[column])\n",
    "    p_result = \"\"\n",
    "    if p < 0.05:\n",
    "        p_result = \"significant, reject the null hypothesis\"\n",
    "    else:\n",
    "        p_result = \"not significant, fail to reject the null hypothesis\"\n",
    "\n",
    "    return stats, p, p_result\n",
    "\n",
    "hypo1_table_data = []\n",
    "for column in chi_square_columns:\n",
    "    stats, p, p_result = man_whitney_test(data, column)\n",
    "    hypo1_table_data.append({'Variable': column, 'Stats': stats, 'p-value': p, 'Result': p_result})\n",
    "\n",
    "hypo1_table = pd.DataFrame(hypo1_table_data)\n",
    "# print in the table format in csv\n",
    "hypo1_table.to_csv('../Results/hypo1_table_mannwhitney.csv', index=False)\n",
    "hypo1_df = pd.read_csv('../Results/hypo1_table_mannwhitney.csv')\n",
    "hypo1_df.head(5)\n"
   ]
  },
  {
   "attachments": {},
   "cell_type": "markdown",
   "metadata": {},
   "source": [
    "Stockpiling Behavior (sto_n):\n",
    "\n",
    "Chi-square test: The p-value (0.013606) is less than the significance level, indicating a significant relationship between being diagnosed with COVID-19 and changes in stockpiling behavior. Therefore, the null hypothesis is rejected.\n",
    "Mann-Whitney U test: The p-value (0.010212) is less than the significance level, indicating a significant difference in stockpiling behavior between individuals/households diagnosed with COVID-19 and those who are not. Therefore, the null hypothesis is rejected.\n",
    "Personal Hygiene Behavior (hyg_n):\n",
    "\n",
    "Chi-square test: The p-value (0.000821) is less than the significance level, indicating a significant relationship between being diagnosed with COVID-19 and changes in personal hygiene behavior. Therefore, the null hypothesis is rejected.\n",
    "Mann-Whitney U test: The p-value (0.645847) is greater than the significance level, indicating no significant difference in personal hygiene behavior between individuals/households diagnosed with COVID-19 and those who are not. Therefore, the null hypothesis is not rejected.\n",
    "Online Spending Habits (int_n):\n",
    "\n",
    "Chi-square test: The p-value (0.152203) is greater than the significance level, indicating no significant relationship between being diagnosed with COVID-19 and changes in online spending habits. Therefore, the null hypothesis is not rejected.\n",
    "Mann-Whitney U test: The p-value (0.154336) is greater than the significance level, indicating no significant difference in online spending habits between individuals/households diagnosed with COVID-19 and those who are not. Therefore, the null hypothesis is not rejected.\n",
    "In summary:\n",
    "\n",
    "There is a significant relationship between being diagnosed with COVID-19 and changes in stockpiling behavior and personal hygiene behavior.\n",
    "However, there is no significant relationship or difference in online spending habits based on COVID-19 diagnosis.\n",
    "These results suggest that individuals or households diagnosed with COVID-19 may be more likely to change their stockpiling behavior and personal hygiene habits compared to those who are not diagnosed, but their online spending habits may not be affected significantly.\n",
    "\n",
    "\n"
   ]
  }
 ],
 "metadata": {
  "kernelspec": {
   "display_name": "Python 3",
   "language": "python",
   "name": "python3"
  },
  "language_info": {
   "codemirror_mode": {
    "name": "ipython",
    "version": 3
   },
   "file_extension": ".py",
   "mimetype": "text/x-python",
   "name": "python",
   "nbconvert_exporter": "python",
   "pygments_lexer": "ipython3",
   "version": "3.8.10"
  },
  "orig_nbformat": 4
 },
 "nbformat": 4,
 "nbformat_minor": 2
}
