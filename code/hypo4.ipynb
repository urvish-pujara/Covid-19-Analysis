{
 "cells": [
  {
   "cell_type": "code",
   "execution_count": 1,
   "metadata": {},
   "outputs": [],
   "source": [
    "import numpy as np \n",
    "import pandas as pd \n",
    "import matplotlib.pyplot as plt\n",
    "from scipy.stats import spearmanr, kendalltau\n",
    "import seaborn as sns\n",
    "\n",
    "data = data = pd.read_csv(\"../Dataset/Data_COVID19_Engl_sh_processed.csv\")\n"
   ]
  },
  {
   "attachments": {},
   "cell_type": "markdown",
   "metadata": {},
   "source": [
    "#### (H0): There is no significant relationship between individuals' perception of the consequences of COVID-19 on personal security (dan) and their perception of the adequacy of state protection of individual and community security during the COVID-19 pandemic (gov).\n",
    "\n",
    "#### (H1): There is a significant relationship between individuals' perception of the consequences of COVID-19 on personal security (dan) and their perception of the adequacy of state protection of individual and community security during the COVID-19 pandemic (gov)."
   ]
  },
  {
   "attachments": {},
   "cell_type": "markdown",
   "metadata": {},
   "source": [
    "Since both \"dan\" and \"gov\" are ordinal variables, we can use Spearman's rank correlation coefficient to assess the strength and direction of the relationship between these two variables. Spearman's correlation does not assume linearity and is appropriate for ordinal data."
   ]
  },
  {
   "cell_type": "code",
   "execution_count": 2,
   "metadata": {},
   "outputs": [
    {
     "name": "stdout",
     "output_type": "stream",
     "text": [
      "Spearman's Rank-Order Correlation Test:\n",
      "Correlation Coefficient: -0.15752143173986638\n",
      "P-value: 2.606629198944219e-17\n",
      "\n",
      "Kendall's Tau Test:\n",
      "Tau Coefficient: -0.13367645571812428\n",
      "P-value: 1.8053923840367645e-17\n"
     ]
    }
   ],
   "source": [
    "# Spearman's Rank-Order Correlation Test\n",
    "spearman_corr, spearman_pval = spearmanr(\n",
    "    data['dan_n'], data['gov_n'])\n",
    "print(\"Spearman's Rank-Order Correlation Test:\")\n",
    "print(f\"Correlation Coefficient: {spearman_corr}\")\n",
    "print(f\"P-value: {spearman_pval}\")\n",
    "\n",
    "# Kendall's Tau Test\n",
    "kendall_tau, kendall_pval = kendalltau(data['dan_n'], data['gov_n'])\n",
    "print(\"\\nKendall's Tau Test:\")\n",
    "print(f\"Tau Coefficient: {kendall_tau}\")\n",
    "print(f\"P-value: {kendall_pval}\")\n"
   ]
  },
  {
   "cell_type": "code",
   "execution_count": 3,
   "metadata": {},
   "outputs": [
    {
     "name": "stdout",
     "output_type": "stream",
     "text": [
      "Chi-square statistic: 162.60463823191884\n",
      "p-value: 2.4986601463936063e-26\n",
      "Degrees of freedom: 16\n",
      "Expected frequencies table:\n",
      "[[ 86.49141255 250.05783386 245.52400981 247.26778829 165.65895549]\n",
      " [102.31195233 295.79705573 290.4339292  292.49667017 195.96039257]\n",
      " [ 38.85594111 112.33753943 110.30073607 111.08412198  74.42166141]\n",
      " [ 17.4721346   50.51419558  49.59831756  49.95057834  33.46477392]\n",
      " [  2.86855941   8.29337539   8.14300736   8.20084122   5.49421661]]\n"
     ]
    },
    {
     "data": {
      "image/png": "[encoded data removed]",
      "text/plain": [
       "<Figure size 720x432 with 2 Axes>"
      ]
     },
     "metadata": {
      "needs_background": "light"
     },
     "output_type": "display_data"
    }
   ],
   "source": [
    "from scipy.stats import chi2_contingency\n",
    "\n",
    "# Create the contingency table\n",
    "contingency_table = pd.crosstab(data['dan_n'], data['gov_n'])\n",
    "\n",
    "# Perform the chi-square test\n",
    "chi2_stat, p_val, dof, expected = chi2_contingency(contingency_table)\n",
    "\n",
    "# Print results\n",
    "print(\"Chi-square statistic:\", chi2_stat)\n",
    "print(\"p-value:\", p_val)\n",
    "print(\"Degrees of freedom:\", dof)\n",
    "print(\"Expected frequencies table:\")\n",
    "print(expected)\n",
    "\n",
    "plt.figure(figsize=(10, 6))\n",
    "sns.heatmap(contingency_table, annot=True, cmap='coolwarm', fmt='d')\n",
    "plt.title(\"Contingency Table\")\n",
    "plt.show()\n"
   ]
  },
  {
   "attachments": {},
   "cell_type": "markdown",
   "metadata": {},
   "source": [
    "#### In our case, the p-value is very small (2.4986601463936063e-26), suggesting that there is a significant association between the variables. \n",
    "\n",
    "#### The values in the heat map are not uniform across the cell, even some place is much higher or lower than the others. This suggests that there is a non-random association between the variables."
   ]
  },
  {
   "attachments": {},
   "cell_type": "markdown",
   "metadata": {},
   "source": [
    "### We change our hypothesis to \n",
    "#### H(0): There is no significant difference in the mean perception scores of the consequences of COVID-19 on personal security (dan) among individuals with different perceptions of the adequacy of state protection of individual and community security during the COVID-19 pandemic (gov).\n",
    "\n",
    "#### H(1): There is a significant difference in the mean perception scores of the consequences of COVID-19 on personal security (dan) among individuals with different perceptions of the adequacy of state protection of individual and community security during the COVID-19 pandemic (gov).\n"
   ]
  },
  {
   "cell_type": "code",
   "execution_count": 4,
   "metadata": {},
   "outputs": [
    {
     "name": "stdout",
     "output_type": "stream",
     "text": [
      "ANOVA Test Results:\n",
      "F-statistic: 18.827939730472224\n",
      "P-value: 2.722236623909921e-15\n",
      "\n",
      "Post-hoc Tukey HSD Test Results:\n",
      "Multiple Comparison of Means - Tukey HSD, FWER=0.05 \n",
      "====================================================\n",
      "group1 group2 meandiff p-adj   lower   upper  reject\n",
      "----------------------------------------------------\n",
      "     1      2  -0.1963 0.0349 -0.3838 -0.0088   True\n",
      "     1      3  -0.3448    0.0 -0.5328 -0.1568   True\n",
      "     1      4  -0.3897    0.0 -0.5775 -0.2019   True\n",
      "     1      5  -0.5507    0.0 -0.7501 -0.3512   True\n",
      "     2      3  -0.1485 0.0227 -0.2836 -0.0135   True\n",
      "     2      4  -0.1934 0.0009 -0.3282 -0.0586   True\n",
      "     2      5  -0.3544    0.0  -0.505 -0.2038   True\n",
      "     3      4  -0.0449 0.8954 -0.1803  0.0906  False\n",
      "     3      5  -0.2059 0.0019  -0.357 -0.0547   True\n",
      "     4      5   -0.161 0.0298 -0.3119 -0.0101   True\n",
      "----------------------------------------------------\n"
     ]
    }
   ],
   "source": [
    "from scipy.stats import f_oneway\n",
    "from statsmodels.stats.multicomp import pairwise_tukeyhsd\n",
    "\n",
    "grouped_data = data.groupby('gov_n')['dan_n']\n",
    "\n",
    "# Calculating mean perception scores for each group\n",
    "group_means = grouped_data.mean()\n",
    "\n",
    "# Performing ANOVA test\n",
    "f_statistic, p_value = f_oneway(\n",
    "    *[grouped_data.get_group(group) for group in grouped_data.groups])\n",
    "\n",
    "# Printing ANOVA results\n",
    "print(\"ANOVA Test Results:\")\n",
    "print(\"F-statistic:\", f_statistic)\n",
    "print(\"P-value:\", p_value)\n",
    "\n",
    "# Performing post-hoc Tukey HSD test if ANOVA is significant\n",
    "if p_value < 0.05:\n",
    "    posthoc = pairwise_tukeyhsd(data['dan_n'], data['gov_n'], alpha=0.05)\n",
    "    print(\"\\nPost-hoc Tukey HSD Test Results:\")\n",
    "    print(posthoc)\n",
    "else:\n",
    "    print(\"\\nNo significant differences found.\")\n"
   ]
  },
  {
   "attachments": {},
   "cell_type": "markdown",
   "metadata": {},
   "source": [
    "#### Based on the ANOVA test results, we have found a significant difference in the mean perception scores of the consequences of COVID-19 on personal security (dan) among individuals with different perceptions of the adequacy of state protection during the COVID-19 pandemic (gov).\n",
    "\n",
    "##### The post-hoc Tukey HSD test results provide further insights into the specific differences between groups:\n",
    "\n",
    "##### Groups 1, 2, 3, 4, and 5 all have significantly different mean perception scores compared to each other.\n",
    "##### Group 3 does not have a significant mean difference compared to Group 4.\n",
    "\n",
    "##### All other pairwise comparisons between groups show significant differences in mean perception scores.\n",
    "##### Therefore, we can conclude that there are significant differences in how individuals perceive the consequences of COVID-19 on personal security based on their perceptions of the adequacy of state protection during the pandemic."
   ]
  }
 ],
 "metadata": {
  "kernelspec": {
   "display_name": "Python 3",
   "language": "python",
   "name": "python3"
  },
  "language_info": {
   "codemirror_mode": {
    "name": "ipython",
    "version": 3
   },
   "file_extension": ".py",
   "mimetype": "text/x-python",
   "name": "python",
   "nbconvert_exporter": "python",
   "pygments_lexer": "ipython3",
   "version": "3.8.10"
  },
  "orig_nbformat": 4
 },
 "nbformat": 4,
 "nbformat_minor": 2
}
